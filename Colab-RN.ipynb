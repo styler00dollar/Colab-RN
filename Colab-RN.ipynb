{
  "nbformat": 4,
  "nbformat_minor": 0,
  "metadata": {
    "colab": {
      "name": "Colab-RN.ipynb",
      "provenance": [],
      "private_outputs": true,
      "collapsed_sections": [],
      "toc_visible": true
    },
    "kernelspec": {
      "name": "python3",
      "display_name": "Python 3"
    },
    "accelerator": "GPU"
  },
  "cells": [
    {
      "cell_type": "markdown",
      "metadata": {
        "id": "2BiTmUq8z9II"
      },
      "source": [
        "# Colab-RN\n",
        "Original repo: [geekyutao/RN](https://github.com/geekyutao/RN)\n",
        "\n",
        "Differentiable Augmentation: [mit-han-lab/data-efficient-gans](https://github.com/mit-han-lab/data-efficient-gans)\n",
        "\n",
        "My fork: [styler00dollar/Colab-RN](https://github.com/styler00dollar/Colab-RN)"
      ]
    },
    {
      "cell_type": "code",
      "metadata": {
        "id": "fxngXRmqeBdW"
      },
      "source": [
        "!nvidia-smi"
      ],
      "execution_count": null,
      "outputs": []
    },
    {
      "cell_type": "code",
      "metadata": {
        "id": "Y7sEBDZSj_IK",
        "cellView": "form"
      },
      "source": [
        "#@title git clone and install\n",
        "!git clone https://github.com/styler00dollar/Colab-RN\n",
        "!pip install scipy==1.1\n",
        "!pip install tensorboardX\n",
        "!pip install scikit-image\n",
        "!pip install opencv-python\n",
        "!pip install torchvision"
      ],
      "execution_count": null,
      "outputs": []
    },
    {
      "cell_type": "markdown",
      "metadata": {
        "id": "SePgNeZz1jJp"
      },
      "source": [
        "Training"
      ]
    },
    {
      "cell_type": "code",
      "metadata": {
        "id": "BrGJnz4kQXo7",
        "cellView": "form"
      },
      "source": [
        "#@title Create empty folders\n",
        "#!mkdir /content/training-checkpoints/\n",
        "!mkdir /content/train/\n",
        "#!mkdir /content/val/\n",
        "!mkdir /content/mask_train/\n",
        "#!mkdir /content/mask_val/"
      ],
      "execution_count": null,
      "outputs": []
    },
    {
      "cell_type": "code",
      "metadata": {
        "id": "8KcoZlKYdzGf"
      },
      "source": [
        "#@title training\n",
        "%cd /content/Colab-RN\n",
        "!python main.py --bs 1 --gpus 1 --prefix rn \\\n",
        "--img_flist /content/train/train.tflist \\\n",
        "--mask_flist /content/mask_train/mask_train.tflist --bs 1 --amp 1 --print_interval 1"
      ],
      "execution_count": null,
      "outputs": []
    },
    {
      "cell_type": "markdown",
      "metadata": {
        "id": "zY0UC9ba1kwY"
      },
      "source": [
        "Testing\n",
        "\n",
        "\n",
        "Sidenote: Uses black to mark areas instead of white."
      ]
    },
    {
      "cell_type": "code",
      "metadata": {
        "id": "IDFCZ7DBsq-B",
        "cellView": "form"
      },
      "source": [
        "#@title Image and mask need to be dividable by 4, this code does fix wrong images \n",
        "import cv2\n",
        "import numpy\n",
        "path_inpainting = '/content/val/0.jpg'\n",
        "path_mask = '/content/mask_val/0.png'\n",
        "image=cv2.imread(path_mask)\n",
        "image_size0 = numpy.floor(image.shape[0]/4)\n",
        "image_size1 = numpy.floor(image.shape[1]/4)\n",
        "image=cv2.cvtColor(image,cv2.COLOR_RGB2GRAY)\n",
        "ret,image=cv2.threshold(image,254,255,cv2.THRESH_BINARY)\n",
        "image = cv2.resize(image, (int(image_size1*4), int(image_size0*4)), cv2.INTER_NEAREST)\n",
        "cv2.imwrite(path_mask, image)\n",
        "\n",
        "image=cv2.imread(path_inpainting)\n",
        "image = cv2.resize(image, (int(image_size1*4), int(image_size0*4)), cv2.INTER_NEAREST)\n",
        "cv2.imwrite(path_inpainting, image)\n",
        "\n",
        "!convert /content/mask_val/0.png -channel RGB -negate /content/mask_val/0.png"
      ],
      "execution_count": null,
      "outputs": []
    },
    {
      "cell_type": "code",
      "metadata": {
        "id": "XYhzJW4LeTci",
        "cellView": "both"
      },
      "source": [
        "!python eval.py --bs 1 --model /content/RN/pretrained_model/x_admin.cluster.localRN-0.8RN-Net_bs_14_epoch_3.pth \\\n",
        "--img_flist /content/val/val.tflist --mask_flist /content/mask_val/mask_val.tflist "
      ],
      "execution_count": null,
      "outputs": []
    },
    {
      "cell_type": "code",
      "metadata": {
        "id": "nUuYLPK-jwQo",
        "cellView": "form"
      },
      "source": [
        "#@title removing alpha from image (Example: val/0.jpg)\n",
        "import cv2\n",
        "filename = '/content/val/0.jpg'\n",
        "image = cv2.imread(filename)\n",
        "cv2.imwrite(filename, image)"
      ],
      "execution_count": null,
      "outputs": []
    }
  ]
}
